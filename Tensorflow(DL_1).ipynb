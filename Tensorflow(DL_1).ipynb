{
  "cells": [
    {
      "cell_type": "markdown",
      "metadata": {
        "id": "view-in-github",
        "colab_type": "text"
      },
      "source": [
        "<a href=\"https://colab.research.google.com/github/velish-qubadov/Deep-Learning/blob/main/Tensorflow(DL_1).ipynb\" target=\"_parent\"><img src=\"https://colab.research.google.com/assets/colab-badge.svg\" alt=\"Open In Colab\"/></a>"
      ]
    },
    {
      "cell_type": "code",
      "execution_count": null,
      "metadata": {
        "colab": {
          "background_save": true
        },
        "id": "EGhaHfRABuHt"
      },
      "outputs": [],
      "source": [
        "import pandas as pd\n",
        "import numpy as np\n",
        "import matplotlib.pyplot as plt\n",
        "import tensorflow as tf"
      ]
    },
    {
      "cell_type": "code",
      "execution_count": null,
      "metadata": {
        "colab": {
          "background_save": true,
          "base_uri": "https://localhost:8080/"
        },
        "id": "Icv136kfCJA7",
        "outputId": "db561b04-dd13-4a6c-911a-6e7c782e6dd4"
      },
      "outputs": [
        {
          "name": "stdout",
          "output_type": "stream",
          "text": [
            "2.18.0\n"
          ]
        }
      ],
      "source": [
        "print(tf.__version__)"
      ]
    },
    {
      "cell_type": "code",
      "execution_count": null,
      "metadata": {
        "colab": {
          "background_save": true,
          "base_uri": "https://localhost:8080/"
        },
        "id": "Hb-YdWjOCNxC",
        "outputId": "b7e5e06a-25c0-4508-d1a9-0229f61a5155"
      },
      "outputs": [
        {
          "data": {
            "text/plain": [
              "<tf.Tensor: shape=(), dtype=int32, numpy=7>"
            ]
          },
          "execution_count": 4057,
          "metadata": {},
          "output_type": "execute_result"
        }
      ],
      "source": [
        "scalar= tf.constant(7)\n",
        "scalar"
      ]
    },
    {
      "cell_type": "code",
      "execution_count": null,
      "metadata": {
        "colab": {
          "background_save": true,
          "base_uri": "https://localhost:8080/"
        },
        "id": "ImLwEbIaCT6l",
        "outputId": "050ffb3a-e916-47a4-d764-6d3c40ec260b"
      },
      "outputs": [
        {
          "data": {
            "text/plain": [
              "0"
            ]
          },
          "execution_count": 4058,
          "metadata": {},
          "output_type": "execute_result"
        }
      ],
      "source": [
        "scalar.ndim"
      ]
    },
    {
      "cell_type": "code",
      "execution_count": null,
      "metadata": {
        "colab": {
          "background_save": true,
          "base_uri": "https://localhost:8080/"
        },
        "id": "YZ9y2BpKCWNO",
        "outputId": "325b37a5-1c9d-4a3f-d629-fc8671b0bf8b"
      },
      "outputs": [
        {
          "data": {
            "text/plain": [
              "<tf.Tensor: shape=(2,), dtype=int32, numpy=array([10, 10], dtype=int32)>"
            ]
          },
          "execution_count": 4059,
          "metadata": {},
          "output_type": "execute_result"
        }
      ],
      "source": [
        "vector= tf.constant([10,10])\n",
        "vector"
      ]
    },
    {
      "cell_type": "code",
      "execution_count": null,
      "metadata": {
        "colab": {
          "background_save": true,
          "base_uri": "https://localhost:8080/"
        },
        "id": "10L1lPpZDGkg",
        "outputId": "50b41ed0-4291-4546-9ae5-25149e501f33"
      },
      "outputs": [
        {
          "data": {
            "text/plain": [
              "1"
            ]
          },
          "execution_count": 4060,
          "metadata": {},
          "output_type": "execute_result"
        }
      ],
      "source": [
        "vector.ndim"
      ]
    },
    {
      "cell_type": "code",
      "execution_count": null,
      "metadata": {
        "colab": {
          "background_save": true,
          "base_uri": "https://localhost:8080/"
        },
        "id": "QDPpOD6KDITx",
        "outputId": "4eb2b9a2-1a0f-4dae-d04e-982ec49a9572"
      },
      "outputs": [
        {
          "data": {
            "text/plain": [
              "<tf.Tensor: shape=(2, 2), dtype=int32, numpy=\n",
              "array([[10,  7],\n",
              "       [ 7, 10]], dtype=int32)>"
            ]
          },
          "execution_count": 4019,
          "metadata": {},
          "output_type": "execute_result"
        }
      ],
      "source": [
        "matrix= tf.constant([[10,7],\n",
        "                     [7,10]])\n",
        "matrix"
      ]
    },
    {
      "cell_type": "code",
      "execution_count": null,
      "metadata": {
        "colab": {
          "background_save": true,
          "base_uri": "https://localhost:8080/"
        },
        "id": "yvJgriDQDdZO",
        "outputId": "bf634efa-5e8f-4cad-a08d-add9e094ab60"
      },
      "outputs": [
        {
          "data": {
            "text/plain": [
              "2"
            ]
          },
          "execution_count": 3987,
          "metadata": {},
          "output_type": "execute_result"
        }
      ],
      "source": [
        "matrix.ndim"
      ]
    },
    {
      "cell_type": "code",
      "execution_count": null,
      "metadata": {
        "colab": {
          "background_save": true,
          "base_uri": "https://localhost:8080/"
        },
        "id": "dmKVwhHmDfAx",
        "outputId": "37ff194e-c6b8-406f-f600-3fafaea9875a"
      },
      "outputs": [
        {
          "data": {
            "text/plain": [
              "<tf.Tensor: shape=(3, 2), dtype=float32, numpy=\n",
              "array([[5., 5.],\n",
              "       [5., 5.],\n",
              "       [5., 5.]], dtype=float32)>"
            ]
          },
          "execution_count": 3988,
          "metadata": {},
          "output_type": "execute_result"
        }
      ],
      "source": [
        "another_matrix= tf.constant([[5.,5.],\n",
        "                            [5.,5.],\n",
        "                            [5.,5.]],dtype=tf.float32)\n",
        "another_matrix"
      ]
    },
    {
      "cell_type": "code",
      "execution_count": null,
      "metadata": {
        "colab": {
          "background_save": true,
          "base_uri": "https://localhost:8080/"
        },
        "id": "d6hN5JVlD9ld",
        "outputId": "bb1760ce-af54-4a8f-ce09-6db1087279a3"
      },
      "outputs": [
        {
          "data": {
            "text/plain": [
              "2"
            ]
          },
          "execution_count": 3989,
          "metadata": {},
          "output_type": "execute_result"
        }
      ],
      "source": [
        "another_matrix.ndim"
      ]
    },
    {
      "cell_type": "code",
      "execution_count": null,
      "metadata": {
        "colab": {
          "background_save": true,
          "base_uri": "https://localhost:8080/"
        },
        "id": "xhtG23cwENKD",
        "outputId": "9efecaf6-7a75-4b06-e0a0-f0a199a1e2a6"
      },
      "outputs": [
        {
          "data": {
            "text/plain": [
              "(<tf.Variable 'Variable:0' shape=(2,) dtype=int32, numpy=array([5, 7], dtype=int32)>,\n",
              " <tf.Tensor: shape=(2,), dtype=int32, numpy=array([5, 7], dtype=int32)>)"
            ]
          },
          "execution_count": 3990,
          "metadata": {},
          "output_type": "execute_result"
        }
      ],
      "source": [
        "changeable_tensor= tf.Variable([5,7])\n",
        "unchangeable_tensor= tf.constant([5,7])\n",
        "changeable_tensor,unchangeable_tensor # burda variablein icin deyismek olur, amma constanatin yox"
      ]
    },
    {
      "cell_type": "code",
      "execution_count": null,
      "metadata": {
        "colab": {
          "background_save": true,
          "base_uri": "https://localhost:8080/"
        },
        "id": "ZjL96KtSEYYg",
        "outputId": "a9b9bc3c-ecf6-4e5d-a96e-308da1b77813"
      },
      "outputs": [
        {
          "data": {
            "text/plain": [
              "<tf.Variable 'Variable:0' shape=(2,) dtype=int32, numpy=array([2, 7], dtype=int32)>"
            ]
          },
          "execution_count": 3991,
          "metadata": {},
          "output_type": "execute_result"
        }
      ],
      "source": [
        "changeable_tensor[0].assign(2)\n",
        "changeable_tensor"
      ]
    },
    {
      "cell_type": "code",
      "execution_count": null,
      "metadata": {
        "colab": {
          "background_save": true,
          "base_uri": "https://localhost:8080/"
        },
        "id": "DOhuGwR7Ecrs",
        "outputId": "456d7eac-dc9e-415f-8dd1-0e4e31aa6df2"
      },
      "outputs": [
        {
          "data": {
            "text/plain": [
              "<tf.Tensor: shape=(3, 3), dtype=float32, numpy=\n",
              "array([[-0.7565803 , -0.06854702,  0.07595026],\n",
              "       [-1.2573844 , -0.23193763, -1.8107855 ],\n",
              "       [ 0.09988727, -0.50998646, -0.7535805 ]], dtype=float32)>"
            ]
          },
          "execution_count": 3992,
          "metadata": {},
          "output_type": "execute_result"
        }
      ],
      "source": [
        "random_1= tf.random.Generator.from_seed(42) # np.random.seed\n",
        "random_1= random_1.normal(shape=(3,3)) # normal paylama\n",
        "random_1"
      ]
    },
    {
      "cell_type": "code",
      "execution_count": null,
      "metadata": {
        "colab": {
          "background_save": true,
          "base_uri": "https://localhost:8080/"
        },
        "id": "qyxZyvmNEneT",
        "outputId": "d479a635-df17-44f4-ab63-288b9825ef07"
      },
      "outputs": [
        {
          "data": {
            "text/plain": [
              "<tf.Tensor: shape=(3, 2), dtype=int32, numpy=\n",
              "array([[1, 5],\n",
              "       [7, 9],\n",
              "       [3, 8]], dtype=int32)>"
            ]
          },
          "execution_count": 3762,
          "metadata": {},
          "output_type": "execute_result"
        }
      ],
      "source": [
        "not_shuffled= tf.constant([[1,5],\n",
        "                           [7,9],\n",
        "                           [3,8]])\n",
        "not_shuffled"
      ]
    },
    {
      "cell_type": "code",
      "execution_count": null,
      "metadata": {
        "colab": {
          "background_save": true,
          "base_uri": "https://localhost:8080/"
        },
        "id": "G6SNMEh8FmOa",
        "outputId": "242f4a89-9cb2-434d-f898-b4cdd1e1e9a4"
      },
      "outputs": [
        {
          "data": {
            "text/plain": [
              "<tf.Tensor: shape=(3, 2), dtype=int32, numpy=\n",
              "array([[3, 8],\n",
              "       [1, 5],\n",
              "       [7, 9]], dtype=int32)>"
            ]
          },
          "execution_count": 3994,
          "metadata": {},
          "output_type": "execute_result"
        }
      ],
      "source": [
        "shuffled= tf.random.shuffle(not_shuffled) # qarisdirir\n",
        "shuffled"
      ]
    },
    {
      "cell_type": "code",
      "execution_count": null,
      "metadata": {
        "colab": {
          "background_save": true,
          "base_uri": "https://localhost:8080/"
        },
        "id": "bI6j9qvIFxLP",
        "outputId": "4ce59631-d83b-4184-8fa8-a1ae680b2c50"
      },
      "outputs": [
        {
          "data": {
            "text/plain": [
              "<tf.Tensor: shape=(3, 2), dtype=int32, numpy=\n",
              "array([[1, 5],\n",
              "       [7, 9],\n",
              "       [3, 8]], dtype=int32)>"
            ]
          },
          "execution_count": 4005,
          "metadata": {},
          "output_type": "execute_result"
        }
      ],
      "source": [
        "tf.random.set_seed(42)\n",
        "tf.random.shuffle(not_shuffled,seed=42)"
      ]
    },
    {
      "cell_type": "code",
      "execution_count": null,
      "metadata": {
        "colab": {
          "background_save": true,
          "base_uri": "https://localhost:8080/"
        },
        "id": "2v-ML14UGAg2",
        "outputId": "977ebd50-1a12-4fe0-bf4a-f927241a4024"
      },
      "outputs": [
        {
          "data": {
            "text/plain": [
              "<tf.Tensor: shape=(3, 4), dtype=float32, numpy=\n",
              "array([[1., 1., 1., 1.],\n",
              "       [1., 1., 1., 1.],\n",
              "       [1., 1., 1., 1.]], dtype=float32)>"
            ]
          },
          "execution_count": 3765,
          "metadata": {},
          "output_type": "execute_result"
        }
      ],
      "source": [
        "tf.ones([3,4])"
      ]
    },
    {
      "cell_type": "code",
      "execution_count": null,
      "metadata": {
        "colab": {
          "background_save": true,
          "base_uri": "https://localhost:8080/"
        },
        "id": "K7FQyDuAGDQG",
        "outputId": "26cf795b-842a-4b05-9a62-fec563083bff"
      },
      "outputs": [
        {
          "data": {
            "text/plain": [
              "<tf.Tensor: shape=(3, 4), dtype=float32, numpy=\n",
              "array([[0., 0., 0., 0.],\n",
              "       [0., 0., 0., 0.],\n",
              "       [0., 0., 0., 0.]], dtype=float32)>"
            ]
          },
          "execution_count": 3766,
          "metadata": {},
          "output_type": "execute_result"
        }
      ],
      "source": [
        "tf.zeros([3,4])"
      ]
    },
    {
      "cell_type": "code",
      "execution_count": null,
      "metadata": {
        "colab": {
          "background_save": true,
          "base_uri": "https://localhost:8080/"
        },
        "id": "PGe34EsdGFv_",
        "outputId": "341d66fa-a740-4531-fbba-28db9a21028d"
      },
      "outputs": [
        {
          "data": {
            "text/plain": [
              "array([ 1,  2,  3,  4,  5,  6,  7,  8,  9, 10, 11, 12, 13, 14, 15, 16, 17,\n",
              "       18, 19, 20, 21, 22, 23, 24], dtype=int32)"
            ]
          },
          "execution_count": 3767,
          "metadata": {},
          "output_type": "execute_result"
        }
      ],
      "source": [
        "import numpy as np\n",
        "numpy_A= np.arange(1,25,dtype=np.int32)\n",
        "numpy_A"
      ]
    },
    {
      "cell_type": "code",
      "execution_count": null,
      "metadata": {
        "colab": {
          "background_save": true,
          "base_uri": "https://localhost:8080/"
        },
        "id": "KDbZrSKQGbeD",
        "outputId": "6195acbd-bef4-4fce-8c08-5cca874ba1fa"
      },
      "outputs": [
        {
          "data": {
            "text/plain": [
              "<tf.Tensor: shape=(2, 2, 2, 3), dtype=int32, numpy=\n",
              "array([[[[ 1,  2,  3],\n",
              "         [ 4,  5,  6]],\n",
              "\n",
              "        [[ 7,  8,  9],\n",
              "         [10, 11, 12]]],\n",
              "\n",
              "\n",
              "       [[[13, 14, 15],\n",
              "         [16, 17, 18]],\n",
              "\n",
              "        [[19, 20, 21],\n",
              "         [22, 23, 24]]]], dtype=int32)>"
            ]
          },
          "execution_count": 3920,
          "metadata": {},
          "output_type": "execute_result"
        }
      ],
      "source": [
        "A=tf.constant(numpy_A, shape=(2,2,2,3))\n",
        "A"
      ]
    },
    {
      "cell_type": "code",
      "execution_count": null,
      "metadata": {
        "colab": {
          "background_save": true,
          "base_uri": "https://localhost:8080/"
        },
        "id": "3I_orzMZGm_x",
        "outputId": "53780aa7-4605-4009-f8be-719558480b54"
      },
      "outputs": [
        {
          "data": {
            "text/plain": [
              "<tf.Tensor: shape=(1, 2, 3, 4, 5, 4), dtype=float32, numpy=\n",
              "array([[[[[[0., 0., 0., 0.],\n",
              "           [0., 0., 0., 0.],\n",
              "           [0., 0., 0., 0.],\n",
              "           [0., 0., 0., 0.],\n",
              "           [0., 0., 0., 0.]],\n",
              "\n",
              "          [[0., 0., 0., 0.],\n",
              "           [0., 0., 0., 0.],\n",
              "           [0., 0., 0., 0.],\n",
              "           [0., 0., 0., 0.],\n",
              "           [0., 0., 0., 0.]],\n",
              "\n",
              "          [[0., 0., 0., 0.],\n",
              "           [0., 0., 0., 0.],\n",
              "           [0., 0., 0., 0.],\n",
              "           [0., 0., 0., 0.],\n",
              "           [0., 0., 0., 0.]],\n",
              "\n",
              "          [[0., 0., 0., 0.],\n",
              "           [0., 0., 0., 0.],\n",
              "           [0., 0., 0., 0.],\n",
              "           [0., 0., 0., 0.],\n",
              "           [0., 0., 0., 0.]]],\n",
              "\n",
              "\n",
              "         [[[0., 0., 0., 0.],\n",
              "           [0., 0., 0., 0.],\n",
              "           [0., 0., 0., 0.],\n",
              "           [0., 0., 0., 0.],\n",
              "           [0., 0., 0., 0.]],\n",
              "\n",
              "          [[0., 0., 0., 0.],\n",
              "           [0., 0., 0., 0.],\n",
              "           [0., 0., 0., 0.],\n",
              "           [0., 0., 0., 0.],\n",
              "           [0., 0., 0., 0.]],\n",
              "\n",
              "          [[0., 0., 0., 0.],\n",
              "           [0., 0., 0., 0.],\n",
              "           [0., 0., 0., 0.],\n",
              "           [0., 0., 0., 0.],\n",
              "           [0., 0., 0., 0.]],\n",
              "\n",
              "          [[0., 0., 0., 0.],\n",
              "           [0., 0., 0., 0.],\n",
              "           [0., 0., 0., 0.],\n",
              "           [0., 0., 0., 0.],\n",
              "           [0., 0., 0., 0.]]],\n",
              "\n",
              "\n",
              "         [[[0., 0., 0., 0.],\n",
              "           [0., 0., 0., 0.],\n",
              "           [0., 0., 0., 0.],\n",
              "           [0., 0., 0., 0.],\n",
              "           [0., 0., 0., 0.]],\n",
              "\n",
              "          [[0., 0., 0., 0.],\n",
              "           [0., 0., 0., 0.],\n",
              "           [0., 0., 0., 0.],\n",
              "           [0., 0., 0., 0.],\n",
              "           [0., 0., 0., 0.]],\n",
              "\n",
              "          [[0., 0., 0., 0.],\n",
              "           [0., 0., 0., 0.],\n",
              "           [0., 0., 0., 0.],\n",
              "           [0., 0., 0., 0.],\n",
              "           [0., 0., 0., 0.]],\n",
              "\n",
              "          [[0., 0., 0., 0.],\n",
              "           [0., 0., 0., 0.],\n",
              "           [0., 0., 0., 0.],\n",
              "           [0., 0., 0., 0.],\n",
              "           [0., 0., 0., 0.]]]],\n",
              "\n",
              "\n",
              "\n",
              "        [[[[0., 0., 0., 0.],\n",
              "           [0., 0., 0., 0.],\n",
              "           [0., 0., 0., 0.],\n",
              "           [0., 0., 0., 0.],\n",
              "           [0., 0., 0., 0.]],\n",
              "\n",
              "          [[0., 0., 0., 0.],\n",
              "           [0., 0., 0., 0.],\n",
              "           [0., 0., 0., 0.],\n",
              "           [0., 0., 0., 0.],\n",
              "           [0., 0., 0., 0.]],\n",
              "\n",
              "          [[0., 0., 0., 0.],\n",
              "           [0., 0., 0., 0.],\n",
              "           [0., 0., 0., 0.],\n",
              "           [0., 0., 0., 0.],\n",
              "           [0., 0., 0., 0.]],\n",
              "\n",
              "          [[0., 0., 0., 0.],\n",
              "           [0., 0., 0., 0.],\n",
              "           [0., 0., 0., 0.],\n",
              "           [0., 0., 0., 0.],\n",
              "           [0., 0., 0., 0.]]],\n",
              "\n",
              "\n",
              "         [[[0., 0., 0., 0.],\n",
              "           [0., 0., 0., 0.],\n",
              "           [0., 0., 0., 0.],\n",
              "           [0., 0., 0., 0.],\n",
              "           [0., 0., 0., 0.]],\n",
              "\n",
              "          [[0., 0., 0., 0.],\n",
              "           [0., 0., 0., 0.],\n",
              "           [0., 0., 0., 0.],\n",
              "           [0., 0., 0., 0.],\n",
              "           [0., 0., 0., 0.]],\n",
              "\n",
              "          [[0., 0., 0., 0.],\n",
              "           [0., 0., 0., 0.],\n",
              "           [0., 0., 0., 0.],\n",
              "           [0., 0., 0., 0.],\n",
              "           [0., 0., 0., 0.]],\n",
              "\n",
              "          [[0., 0., 0., 0.],\n",
              "           [0., 0., 0., 0.],\n",
              "           [0., 0., 0., 0.],\n",
              "           [0., 0., 0., 0.],\n",
              "           [0., 0., 0., 0.]]],\n",
              "\n",
              "\n",
              "         [[[0., 0., 0., 0.],\n",
              "           [0., 0., 0., 0.],\n",
              "           [0., 0., 0., 0.],\n",
              "           [0., 0., 0., 0.],\n",
              "           [0., 0., 0., 0.]],\n",
              "\n",
              "          [[0., 0., 0., 0.],\n",
              "           [0., 0., 0., 0.],\n",
              "           [0., 0., 0., 0.],\n",
              "           [0., 0., 0., 0.],\n",
              "           [0., 0., 0., 0.]],\n",
              "\n",
              "          [[0., 0., 0., 0.],\n",
              "           [0., 0., 0., 0.],\n",
              "           [0., 0., 0., 0.],\n",
              "           [0., 0., 0., 0.],\n",
              "           [0., 0., 0., 0.]],\n",
              "\n",
              "          [[0., 0., 0., 0.],\n",
              "           [0., 0., 0., 0.],\n",
              "           [0., 0., 0., 0.],\n",
              "           [0., 0., 0., 0.],\n",
              "           [0., 0., 0., 0.]]]]]], dtype=float32)>"
            ]
          },
          "execution_count": 3921,
          "metadata": {},
          "output_type": "execute_result"
        }
      ],
      "source": [
        "zeros=tf.zeros([1,2,3,4,5,4])\n",
        "zeros"
      ]
    },
    {
      "cell_type": "code",
      "execution_count": null,
      "metadata": {
        "colab": {
          "background_save": true,
          "base_uri": "https://localhost:8080/"
        },
        "id": "P6iaqSo8HYZS",
        "outputId": "badee79a-317e-47f4-e5b4-ef81e10ce712"
      },
      "outputs": [
        {
          "data": {
            "text/plain": [
              "<tf.Tensor: shape=(), dtype=int32, numpy=6>"
            ]
          },
          "execution_count": 4063,
          "metadata": {},
          "output_type": "execute_result"
        }
      ],
      "source": [
        "tf.rank(zeros)"
      ]
    },
    {
      "cell_type": "code",
      "execution_count": null,
      "metadata": {
        "colab": {
          "background_save": true,
          "base_uri": "https://localhost:8080/"
        },
        "id": "TrUyFSd8H1Yi",
        "outputId": "b8741add-032e-42d4-d4ef-596ea8ecfa7a"
      },
      "outputs": [
        {
          "data": {
            "text/plain": [
              "(TensorShape([2, 2, 2, 3]),\n",
              " 4,\n",
              " <tf.Tensor: shape=(), dtype=int32, numpy=24>,\n",
              " <tf.Tensor: shape=(), dtype=int32, numpy=4>)"
            ]
          },
          "execution_count": 4064,
          "metadata": {},
          "output_type": "execute_result"
        }
      ],
      "source": [
        "A.shape,  A.ndim, tf.size(A), tf.rank(A)"
      ]
    },
    {
      "cell_type": "code",
      "execution_count": null,
      "metadata": {
        "colab": {
          "background_save": true
        },
        "id": "P_HzB-HTIBx5"
      },
      "outputs": [],
      "source": [
        "#tf.size(tensor).numpy()\n"
      ]
    },
    {
      "cell_type": "code",
      "execution_count": null,
      "metadata": {
        "colab": {
          "background_save": true,
          "base_uri": "https://localhost:8080/"
        },
        "id": "W37Gk4teIa5h",
        "outputId": "e8cb1c6a-7be6-4d9b-c114-46bdf2cae260"
      },
      "outputs": [
        {
          "data": {
            "text/plain": [
              "<tf.Tensor: shape=(2, 3), dtype=float32, numpy=\n",
              "array([[1., 1., 1.],\n",
              "       [1., 1., 1.]], dtype=float32)>"
            ]
          },
          "execution_count": 4066,
          "metadata": {},
          "output_type": "execute_result"
        }
      ],
      "source": [
        "rank_2_tensor= tf.ones(shape=(2,3))\n",
        "rank_2_tensor"
      ]
    },
    {
      "cell_type": "code",
      "execution_count": null,
      "metadata": {
        "colab": {
          "background_save": true,
          "base_uri": "https://localhost:8080/"
        },
        "id": "rgarNIkfIoCH",
        "outputId": "69a97599-0b75-44a3-be25-381e9f24cbfc"
      },
      "outputs": [
        {
          "data": {
            "text/plain": [
              "<tf.Tensor: shape=(), dtype=int32, numpy=2>"
            ]
          },
          "execution_count": 4067,
          "metadata": {},
          "output_type": "execute_result"
        }
      ],
      "source": [
        "tf.rank(rank_2_tensor)"
      ]
    },
    {
      "cell_type": "code",
      "execution_count": null,
      "metadata": {
        "colab": {
          "background_save": true,
          "base_uri": "https://localhost:8080/"
        },
        "id": "7bZ3j4moIqoy",
        "outputId": "d9d6379f-8ad2-498a-ae49-5f9e196cfc17"
      },
      "outputs": [
        {
          "data": {
            "text/plain": [
              "<tf.Tensor: shape=(2, 3, 1), dtype=float32, numpy=\n",
              "array([[[1.],\n",
              "        [1.],\n",
              "        [1.]],\n",
              "\n",
              "       [[1.],\n",
              "        [1.],\n",
              "        [1.]]], dtype=float32)>"
            ]
          },
          "execution_count": 4068,
          "metadata": {},
          "output_type": "execute_result"
        }
      ],
      "source": [
        "rank_3_tensor= rank_2_tensor[..., tf.newaxis] # new dimention\n",
        "rank_3_tensor"
      ]
    },
    {
      "cell_type": "code",
      "execution_count": null,
      "metadata": {
        "colab": {
          "background_save": true,
          "base_uri": "https://localhost:8080/"
        },
        "id": "ysiwMibcI1Sw",
        "outputId": "4322e034-f558-4f51-87cd-cd380479e3b2"
      },
      "outputs": [
        {
          "data": {
            "text/plain": [
              "<tf.Tensor: shape=(2, 3, 1), dtype=float32, numpy=\n",
              "array([[[1.],\n",
              "        [1.],\n",
              "        [1.]],\n",
              "\n",
              "       [[1.],\n",
              "        [1.],\n",
              "        [1.]]], dtype=float32)>"
            ]
          },
          "execution_count": 3981,
          "metadata": {},
          "output_type": "execute_result"
        }
      ],
      "source": [
        "tf.expand_dims(rank_2_tensor, axis=2) # axis hara elave elediyimiz (0,1,2,3....) yeni o biri necenci yere qoydugumuz"
      ]
    },
    {
      "cell_type": "markdown",
      "metadata": {
        "id": "A0dVFLxLJhUY"
      },
      "source": [
        "broadcasting"
      ]
    },
    {
      "cell_type": "code",
      "execution_count": null,
      "metadata": {
        "colab": {
          "background_save": true,
          "base_uri": "https://localhost:8080/"
        },
        "id": "HACklBaSJWhb",
        "outputId": "44291b8f-cf99-4020-8a74-2147244670f0"
      },
      "outputs": [
        {
          "data": {
            "text/plain": [
              "<tf.Tensor: shape=(2, 2), dtype=int32, numpy=\n",
              "array([[20, 16],\n",
              "       [16, 19]], dtype=int32)>"
            ]
          },
          "execution_count": 3982,
          "metadata": {},
          "output_type": "execute_result"
        }
      ],
      "source": [
        "tensor=tf.constant([[10,6],\n",
        "                    [6,9]])\n",
        "tensor+10"
      ]
    },
    {
      "cell_type": "code",
      "execution_count": null,
      "metadata": {
        "colab": {
          "background_save": true,
          "base_uri": "https://localhost:8080/"
        },
        "id": "tfbt0D1LJn6g",
        "outputId": "d07ee65d-219e-4608-de63-8cb39a2ef647"
      },
      "outputs": [
        {
          "data": {
            "text/plain": [
              "<tf.Tensor: shape=(2, 2), dtype=int32, numpy=\n",
              "array([[100,  60],\n",
              "       [ 60,  90]], dtype=int32)>"
            ]
          },
          "execution_count": 3983,
          "metadata": {},
          "output_type": "execute_result"
        }
      ],
      "source": [
        "tensor * 10\n",
        "# or\n",
        "tf.multiply(tensor,10)"
      ]
    },
    {
      "cell_type": "code",
      "execution_count": null,
      "metadata": {
        "colab": {
          "background_save": true,
          "base_uri": "https://localhost:8080/"
        },
        "id": "ahVORL2UJthF",
        "outputId": "51f5175a-8846-4cfb-bcdb-e044dfdffab0"
      },
      "outputs": [
        {
          "data": {
            "text/plain": [
              "<tf.Tensor: shape=(2, 2), dtype=int32, numpy=\n",
              "array([[136, 114],\n",
              "       [114, 117]], dtype=int32)>"
            ]
          },
          "execution_count": 3931,
          "metadata": {},
          "output_type": "execute_result"
        }
      ],
      "source": [
        "tf.matmul(tensor,tensor) #matrix multipication ----> dot product\n",
        "# or\n",
        "tensor @ tensor"
      ]
    },
    {
      "cell_type": "code",
      "execution_count": null,
      "metadata": {
        "colab": {
          "background_save": true,
          "base_uri": "https://localhost:8080/"
        },
        "id": "0L69LWYwKA87",
        "outputId": "7beceeca-d4db-4eb7-da25-fbc079b65518"
      },
      "outputs": [
        {
          "data": {
            "text/plain": [
              "(<tf.Tensor: shape=(2, 3), dtype=int32, numpy=\n",
              " array([[1, 2, 3],\n",
              "        [4, 5, 6]], dtype=int32)>,\n",
              " <tf.Tensor: shape=(2, 3), dtype=int32, numpy=\n",
              " array([[ 7,  8,  9],\n",
              "        [10, 11, 12]], dtype=int32)>)"
            ]
          },
          "execution_count": 3932,
          "metadata": {},
          "output_type": "execute_result"
        }
      ],
      "source": [
        "X= tf.constant([[1,2,3],\n",
        "                [4,5,6]])\n",
        "Y=tf.constant([[7,8,9],\n",
        "               [10,11,12]])\n",
        "X,Y"
      ]
    },
    {
      "cell_type": "code",
      "execution_count": null,
      "metadata": {
        "colab": {
          "background_save": true,
          "base_uri": "https://localhost:8080/"
        },
        "id": "EIXsUDjzKV5_",
        "outputId": "952b20af-7146-4f29-ec74-26414374e0c8"
      },
      "outputs": [
        {
          "data": {
            "text/plain": [
              "<tf.Tensor: shape=(3, 2), dtype=int32, numpy=\n",
              "array([[ 7, 10],\n",
              "       [ 8, 11],\n",
              "       [ 9, 12]], dtype=int32)>"
            ]
          },
          "execution_count": 3933,
          "metadata": {},
          "output_type": "execute_result"
        }
      ],
      "source": [
        "Y=tf.transpose(Y)\n",
        "Y"
      ]
    },
    {
      "cell_type": "code",
      "execution_count": null,
      "metadata": {
        "colab": {
          "background_save": true,
          "base_uri": "https://localhost:8080/"
        },
        "id": "f50FhAbAKhnb",
        "outputId": "bfde6793-7f32-4f8f-8bed-3832a3c4a7c5"
      },
      "outputs": [
        {
          "data": {
            "text/plain": [
              "<tf.Tensor: shape=(2, 2), dtype=int32, numpy=\n",
              "array([[ 50,  68],\n",
              "       [122, 167]], dtype=int32)>"
            ]
          },
          "execution_count": 3934,
          "metadata": {},
          "output_type": "execute_result"
        }
      ],
      "source": [
        "X @ Y # vurmaq ucun ortadakilar eyni"
      ]
    },
    {
      "cell_type": "code",
      "execution_count": null,
      "metadata": {
        "colab": {
          "background_save": true,
          "base_uri": "https://localhost:8080/"
        },
        "id": "ObBpR9kHKnSL",
        "outputId": "627a799c-052e-4111-887b-b550c26fcfc7"
      },
      "outputs": [
        {
          "data": {
            "text/plain": [
              "<tf.Tensor: shape=(2, 2), dtype=int32, numpy=\n",
              "array([[ 50,  68],\n",
              "       [122, 167]], dtype=int32)>"
            ]
          },
          "execution_count": 3935,
          "metadata": {},
          "output_type": "execute_result"
        }
      ],
      "source": [
        "tf.matmul(X,Y)"
      ]
    },
    {
      "cell_type": "code",
      "execution_count": null,
      "metadata": {
        "colab": {
          "background_save": true,
          "base_uri": "https://localhost:8080/"
        },
        "id": "RocLJxBRKxZO",
        "outputId": "a141ff99-e2f9-4061-eb83-a261f370fe12"
      },
      "outputs": [
        {
          "data": {
            "text/plain": [
              "<tf.Tensor: shape=(2, 3), dtype=int32, numpy=\n",
              "array([[ 7, 10,  8],\n",
              "       [11,  9, 12]], dtype=int32)>"
            ]
          },
          "execution_count": 3936,
          "metadata": {},
          "output_type": "execute_result"
        }
      ],
      "source": [
        "tf.reshape(Y, shape=(2,3))"
      ]
    },
    {
      "cell_type": "code",
      "execution_count": null,
      "metadata": {
        "colab": {
          "background_save": true,
          "base_uri": "https://localhost:8080/"
        },
        "id": "iMwbU1fGLJgy",
        "outputId": "feda78b1-9430-4fb7-ae05-40689341ab95"
      },
      "outputs": [
        {
          "data": {
            "text/plain": [
              "(<tf.Tensor: shape=(2, 3), dtype=int32, numpy=\n",
              " array([[1, 2, 3],\n",
              "        [4, 5, 6]], dtype=int32)>,\n",
              " <tf.Tensor: shape=(3, 2), dtype=int32, numpy=\n",
              " array([[ 7, 10],\n",
              "        [ 8, 11],\n",
              "        [ 9, 12]], dtype=int32)>)"
            ]
          },
          "execution_count": 3937,
          "metadata": {},
          "output_type": "execute_result"
        }
      ],
      "source": [
        "X,Y"
      ]
    },
    {
      "cell_type": "code",
      "execution_count": null,
      "metadata": {
        "colab": {
          "background_save": true,
          "base_uri": "https://localhost:8080/"
        },
        "id": "3S7E8fDDLLav",
        "outputId": "a813ac94-f50f-4400-d9cf-461d6aab69d7"
      },
      "outputs": [
        {
          "data": {
            "text/plain": [
              "<tf.Tensor: shape=(2, 2), dtype=int32, numpy=\n",
              "array([[ 50,  68],\n",
              "       [122, 167]], dtype=int32)>"
            ]
          },
          "execution_count": 3667,
          "metadata": {},
          "output_type": "execute_result"
        }
      ],
      "source": [
        "tf.tensordot(X,Y, axes=1)"
      ]
    },
    {
      "cell_type": "code",
      "execution_count": null,
      "metadata": {
        "colab": {
          "background_save": true,
          "base_uri": "https://localhost:8080/"
        },
        "id": "249PC0DxLW6A",
        "outputId": "c700b97b-ebf5-479f-9798-0f4c796db4de"
      },
      "outputs": [
        {
          "data": {
            "text/plain": [
              "tf.int32"
            ]
          },
          "execution_count": 3668,
          "metadata": {},
          "output_type": "execute_result"
        }
      ],
      "source": [
        "A= tf.constant([4,5])\n",
        "A.dtype"
      ]
    },
    {
      "cell_type": "code",
      "execution_count": null,
      "metadata": {
        "colab": {
          "background_save": true
        },
        "id": "NNYtLTfULhxX"
      },
      "outputs": [],
      "source": [
        "A=tf.cast(A, dtype=tf.int16)"
      ]
    },
    {
      "cell_type": "code",
      "execution_count": null,
      "metadata": {
        "colab": {
          "background_save": true,
          "base_uri": "https://localhost:8080/"
        },
        "id": "klRxswvDLqsx",
        "outputId": "72b93878-4e3f-49e9-e228-bfdef99ebb6e"
      },
      "outputs": [
        {
          "data": {
            "text/plain": [
              "tf.int16"
            ]
          },
          "execution_count": 3670,
          "metadata": {},
          "output_type": "execute_result"
        }
      ],
      "source": [
        "A.dtype"
      ]
    },
    {
      "cell_type": "code",
      "execution_count": null,
      "metadata": {
        "colab": {
          "background_save": true,
          "base_uri": "https://localhost:8080/"
        },
        "id": "O5pccN8ELr6S",
        "outputId": "46f14c18-285c-4a16-f592-a28c4aef6c32"
      },
      "outputs": [
        {
          "data": {
            "text/plain": [
              "<tf.Tensor: shape=(50,), dtype=int64, numpy=\n",
              "array([ 8, 71, 61, 52, 92, 44, 69, 96, 50, 78, 89, 98, 52, 96, 19, 32, 28,\n",
              "       68, 99,  1,  6, 27, 33, 41,  8, 14,  6, 68, 25,  0, 69, 36, 21, 16,\n",
              "       99,  7, 37, 59, 98, 60, 43, 67, 62, 37, 91, 50, 78, 82, 42, 80])>"
            ]
          },
          "execution_count": 3671,
          "metadata": {},
          "output_type": "execute_result"
        }
      ],
      "source": [
        "E= tf.constant(np.random.randint(0,100,size=50))\n",
        "E"
      ]
    },
    {
      "cell_type": "code",
      "execution_count": null,
      "metadata": {
        "colab": {
          "background_save": true,
          "base_uri": "https://localhost:8080/"
        },
        "id": "YZuOO9LVLzEd",
        "outputId": "e535d537-90ea-40bc-8f51-ee983be23f89"
      },
      "outputs": [
        {
          "data": {
            "text/plain": [
              "tf.int64"
            ]
          },
          "execution_count": 3672,
          "metadata": {},
          "output_type": "execute_result"
        }
      ],
      "source": [
        "E.dtype"
      ]
    },
    {
      "cell_type": "code",
      "execution_count": null,
      "metadata": {
        "colab": {
          "background_save": true,
          "base_uri": "https://localhost:8080/"
        },
        "id": "rDASJKwTL1h-",
        "outputId": "3d718784-3214-4bf2-b4fe-f5d613aac79d"
      },
      "outputs": [
        {
          "data": {
            "text/plain": [
              "<tf.Tensor: shape=(1, 1, 1, 1, 50), dtype=float32, numpy=\n",
              "array([[[[[0.6645621 , 0.44100678, 0.3528825 , 0.46448255, 0.03366041,\n",
              "           0.68467236, 0.74011743, 0.8724445 , 0.22632635, 0.22319686,\n",
              "           0.3103881 , 0.7223358 , 0.13318717, 0.5480639 , 0.5746088 ,\n",
              "           0.8996835 , 0.00946367, 0.5212307 , 0.6345445 , 0.1993283 ,\n",
              "           0.72942245, 0.54583454, 0.10756552, 0.6767061 , 0.6602763 ,\n",
              "           0.33695042, 0.60141766, 0.21062577, 0.8527372 , 0.44062173,\n",
              "           0.9485276 , 0.23752594, 0.81179297, 0.5263394 , 0.494308  ,\n",
              "           0.21612847, 0.8457197 , 0.8718841 , 0.3083862 , 0.6868038 ,\n",
              "           0.23764038, 0.7817228 , 0.9671384 , 0.06870162, 0.79873943,\n",
              "           0.66028714, 0.5871513 , 0.16461694, 0.7381023 , 0.32054043]]]]],\n",
              "      dtype=float32)>"
            ]
          },
          "execution_count": 3478,
          "metadata": {},
          "output_type": "execute_result"
        }
      ],
      "source": [
        "tf.random.set_seed(42)\n",
        "G= tf.constant(tf.random.uniform(shape=[50]),shape=[1,1,1,1,50]) #uniform paylama\n",
        "G"
      ]
    },
    {
      "cell_type": "code",
      "execution_count": null,
      "metadata": {
        "colab": {
          "background_save": true,
          "base_uri": "https://localhost:8080/"
        },
        "id": "N1J-gIFrMK9N",
        "outputId": "d670514a-e473-425b-cea6-02ab982b2d72"
      },
      "outputs": [
        {
          "data": {
            "text/plain": [
              "TensorShape([1, 1, 1, 1, 50])"
            ]
          },
          "execution_count": 3479,
          "metadata": {},
          "output_type": "execute_result"
        }
      ],
      "source": [
        "G.shape"
      ]
    },
    {
      "cell_type": "code",
      "execution_count": null,
      "metadata": {
        "colab": {
          "background_save": true,
          "base_uri": "https://localhost:8080/"
        },
        "id": "OfFL_mD3MMsI",
        "outputId": "c2cebbe1-aac7-4065-8752-408d54e8cf3c"
      },
      "outputs": [
        {
          "data": {
            "text/plain": [
              "(<tf.Tensor: shape=(50,), dtype=float32, numpy=\n",
              " array([0.6645621 , 0.44100678, 0.3528825 , 0.46448255, 0.03366041,\n",
              "        0.68467236, 0.74011743, 0.8724445 , 0.22632635, 0.22319686,\n",
              "        0.3103881 , 0.7223358 , 0.13318717, 0.5480639 , 0.5746088 ,\n",
              "        0.8996835 , 0.00946367, 0.5212307 , 0.6345445 , 0.1993283 ,\n",
              "        0.72942245, 0.54583454, 0.10756552, 0.6767061 , 0.6602763 ,\n",
              "        0.33695042, 0.60141766, 0.21062577, 0.8527372 , 0.44062173,\n",
              "        0.9485276 , 0.23752594, 0.81179297, 0.5263394 , 0.494308  ,\n",
              "        0.21612847, 0.8457197 , 0.8718841 , 0.3083862 , 0.6868038 ,\n",
              "        0.23764038, 0.7817228 , 0.9671384 , 0.06870162, 0.79873943,\n",
              "        0.66028714, 0.5871513 , 0.16461694, 0.7381023 , 0.32054043],\n",
              "       dtype=float32)>,\n",
              " TensorShape([50]))"
            ]
          },
          "execution_count": 3480,
          "metadata": {},
          "output_type": "execute_result"
        }
      ],
      "source": [
        "G_squeezed= tf.squeeze(G) # dimationu azaldir\n",
        "G_squeezed, G_squeezed.shape"
      ]
    },
    {
      "cell_type": "code",
      "execution_count": null,
      "metadata": {
        "colab": {
          "background_save": true,
          "base_uri": "https://localhost:8080/"
        },
        "id": "J-hVaIGcMiqs",
        "outputId": "6e91b62e-7851-4a84-f9e3-5187128b44c7"
      },
      "outputs": [
        {
          "data": {
            "text/plain": [
              "[PhysicalDevice(name='/physical_device:CPU:0', device_type='CPU')]"
            ]
          },
          "execution_count": 1341,
          "metadata": {},
          "output_type": "execute_result"
        }
      ],
      "source": [
        "tf.config.list_physical_devices()"
      ]
    },
    {
      "cell_type": "code",
      "execution_count": null,
      "metadata": {
        "colab": {
          "base_uri": "https://localhost:8080/"
        },
        "id": "NEXR2G7XMnAM",
        "outputId": "08769f55-c188-4457-e6ec-b73a9cf6077d"
      },
      "outputs": [
        {
          "name": "stdout",
          "output_type": "stream",
          "text": [
            "/bin/bash: line 1: nvidia-smi: command not found\n"
          ]
        }
      ],
      "source": [
        "!nvidia-smi"
      ]
    },
    {
      "cell_type": "code",
      "execution_count": null,
      "metadata": {
        "colab": {
          "background_save": true
        },
        "id": "k75-9BZlM10-"
      },
      "outputs": [],
      "source": [
        "#tetbiq"
      ]
    },
    {
      "cell_type": "code",
      "execution_count": null,
      "metadata": {
        "colab": {
          "background_save": true
        },
        "id": "JIj9NuZhNLQM"
      },
      "outputs": [],
      "source": []
    }
  ],
  "metadata": {
    "colab": {
      "provenance": [],
      "authorship_tag": "ABX9TyPJslbiWoyGcVxnVxS8P12e",
      "include_colab_link": true
    },
    "kernelspec": {
      "display_name": "Python 3",
      "name": "python3"
    },
    "language_info": {
      "name": "python"
    }
  },
  "nbformat": 4,
  "nbformat_minor": 0
}